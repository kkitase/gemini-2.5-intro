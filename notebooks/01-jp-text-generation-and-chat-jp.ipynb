{
 "cells": [
  {
   "cell_type": "markdown",
   "id": "bd9e5234",
   "metadata": {},
   "source": [
    "\n",
    "[![Open In Colab](https://colab.research.google.com/assets/colab-badge.svg)](https://colab.research.google.com/github/philschmid/gemini-2.5-ai-engineering-workshop/blob/main/notebooks/01-text-generation-and-chat.ipynb)\n",
    "\n",
    "# パート1 - テキスト生成とチャット\n",
    "\n",
    "このパートでは、`google-genai` SDK を使用した Gemini API によるテキスト生成に焦点を当て、基本的なプロンプト、チャットの対話、ストリーミング、設定について説明します。\n",
    "\n",
    "[セットアップと認証](solution_00_setup_and_authentication.md) のセクションを完了していることを確認してください。"
   ]
  },
  {
   "cell_type": "code",
   "execution_count": null,
   "id": "32337330",
   "metadata": {},
   "outputs": [],
   "source": [
    "from google import genai\n",
    "from google.genai import types\n",
    "import os\n",
    "import sys\n",
    "IN_COLAB = 'google.colab' in sys.modules\n",
    "\n",
    "if IN_COLAB:\n",
    "    from google.colab import userdata\n",
    "    GEMINI_API_KEY = userdata.get('GEMINI_API_KEY')\n",
    "else:\n",
    "    GEMINI_API_KEY = os.environ.get('GEMINI_API_KEY',None)\n",
    "\n",
    "# APIキーでクライアントを作成\n",
    "MODEL_ID = \"gemini-2.5-flash-preview-05-20\"\n",
    "client = genai.Client(api_key=GEMINI_API_KEY)"
   ]
  },
  {
   "cell_type": "markdown",
   "id": "a26641af",
   "metadata": {},
   "source": [
    "## 1. 最初のプロンプトを送信する"
   ]
  },
  {
   "cell_type": "code",
   "execution_count": null,
   "id": "1ccdfc0f",
   "metadata": {},
   "outputs": [],
   "source": [
    "prompt = \"サステナビリティを重視した新しいコーヒーショップの名前を3つ作成してください。\"\n",
    "\n",
    "response = client.models.generate_content(\n",
    "    model=MODEL_ID,\n",
    "    contents=prompt\n",
    ")\n",
    "\n",
    "print(\"Geminiからの応答:\")\n",
    "print(response.text)"
   ]
  },
  {
   "cell_type": "markdown",
   "id": "32d254da",
   "metadata": {},
   "source": [
    "#### !! 演習: さまざまなプロンプトを送信する !!\n",
    "\n",
    "さまざまな種類のプロンプトをGeminiモデルに送信し、その応答を観察する練習をします。利用可能な場合は、異なるモデルバージョンを試すこともできます。\n",
    "\n",
    "タスク:\n",
    "- ロボットについての短い詩を生成するようにGeminiに依頼するプロンプトを作成します。\n",
    "- 「機械学習」を簡単な言葉で説明するようにGeminiに依頼するプロンプトを作成します。\n",
    "- 他のモデル（例：`gemini-2.0-flash`）を試し、プロンプトを送信して結果を比較します。"
   ]
  },
  {
   "cell_type": "code",
   "execution_count": null,
   "id": "55a32ec9",
   "metadata": {},
   "outputs": [],
   "source": [
    "# TODO:"
   ]
  },
  {
   "cell_type": "markdown",
   "id": "cab74e5c",
   "metadata": {},
   "source": [
    "## 2. トークンの理解とカウント\n",
    "\n",
    "トークンは、Geminiモデルがテキストを処理するために使用する基本的な単位です。トークンの使用状況を理解することは、次の点で重要です。\n",
    "- **コスト管理**: 請求はトークン消費量に基づいています\n",
    "- **コンテキスト制限**: モデルには最大トークン制限があります（例：Gemini 2.5 Proの場合は100万トークン）\n",
    "- **パフォーマンスの最適化**: 入力が小さいほど、一般的に処理が高速になります\n",
    "\n",
    "Geminiモデルの場合、1トークンは約4文字に相当し、100トークンは約60〜80の英単語に相当します。\n",
    "\n",
    "### 生成前のトークンをカウントする\n",
    "\n",
    "モデルに送信する前に入力のトークンをカウントして、コストを見積もり、制限内に収まるようにすることができます。"
   ]
  },
  {
   "cell_type": "code",
   "execution_count": null,
   "id": "78019bca",
   "metadata": {},
   "outputs": [],
   "source": [
    "prompt = \"The quick brown fox jumps over the lazy dog.\"\n",
    "\n",
    "# 入力のトークンをカウントする\n",
    "# TODO: client.models.count_tokens() メソッドを呼び出します。\n",
    "# MODEL_IDとプロンプトを渡すようにしてください。\n",
    "# token_count = client.models.count_tokens(\n",
    "#     model=...,\n",
    "#     contents=...\n",
    "# )\n",
    "print(f\"入力トークン: {token_count.total_tokens}\")\n",
    "\n",
    "# コストの見積もり（価格例 - 現在のレートを確認してください）\n",
    "estimated_cost = token_count.total_tokens * 0.15 / 1_000_000\n",
    "print(f\"推定入力コスト: ${estimated_cost:.6f}\")"
   ]
  },
  {
   "cell_type": "markdown",
   "id": "58082e5b",
   "metadata": {},
   "source": [
    "### 生成後のトークンをカウントする\n",
    "\n",
    "コンテンツを生成した後、詳細なトークン使用状況情報にアクセスできます。"
   ]
  },
  {
   "cell_type": "code",
   "execution_count": null,
   "id": "1e51085c",
   "metadata": {},
   "outputs": [],
   "source": [
    "prompt = \"人工知能についての俳句を詠んでください。\"\n",
    "\n",
    "response = client.models.generate_content(\n",
    "    model=MODEL_ID,\n",
    "    contents=prompt\n",
    ")\n",
    "\n",
    "print(f\"生成された俳句:\\n{response.text}\\n\")\n",
    "\n",
    "# トークン使用メタデータにアクセスする\n",
    "usage = response.usage_metadata\n",
    "print(f\"入力トークン: {usage.prompt_token_count}\")\n",
    "print(f\"思考トークン: {usage.thoughts_token_count}\")\n",
    "print(f\"出力トークン: {usage.candidates_token_count}\")\n",
    "\n",
    "# 合計推定コストを計算する\n",
    "total_cost = (usage.prompt_token_count * 0.15 + (usage.candidates_token_count + usage.thoughts_token_count) * 3.5) / 1_000_000\n",
    "print(f\"合計推定コスト: ${total_cost:.6f}\")"
   ]
  },
  {
   "cell_type": "markdown",
   "id": "a77b3568",
   "metadata": {},
   "source": [
    "## 3. `contents` によるテキスト理解\n",
    "\n",
    "テキストを生成する最も簡単な方法は、モデルにテキストのみのプロンプトを提供することです。 `contents` は、単一のプロンプト、プロンプトのリスト、またはマルチモーダル入力の組み合わせにすることができます。"
   ]
  },
  {
   "cell_type": "code",
   "execution_count": null,
   "id": "ab400c12",
   "metadata": {},
   "outputs": [],
   "source": [
    "response_capital = client.models.generate_content(\n",
    "    model=MODEL_ID,\n",
    "    contents=\"フランスの首都はどこですか？\"\n",
    ")\n",
    "print(f\"Q: フランスの首都はどこですか？\\nA: {response_capital.text}\")"
   ]
  },
  {
   "cell_type": "code",
   "execution_count": null,
   "id": "e3783386",
   "metadata": {},
   "outputs": [],
   "source": [
    "# TODO: client.models.generate_content() メソッドを呼び出します。\n",
    "# contentsには、文字列のリストを指定します。\n",
    "# 1. \"ビーガンレストランの名前を3つ作成してください\"\n",
    "# 2. \"都市: ベルリン\"\n",
    "# response_restaurant_berlin = client.models.generate_content(\n",
    "#     model=MODEL_ID,\n",
    "#     contents=[...]\n",
    "# )\n",
    "print(f\"\\nベルリンのビーガンレストラン名:\\n{response_restaurant_berlin.text}\")"
   ]
  },
  {
   "cell_type": "markdown",
   "id": "f35a9924",
   "metadata": {},
   "source": [
    "## 4. ストリーミング応答\n",
    "\n",
    "ストリーミングを使用すると、生成される応答を増分的に受信できるため、長い応答やチャットボットなどのリアルタイムアプリケーションで、より優れたユーザーエクスペリエンスを提供できます。\n",
    "\n",
    "**ストリーミングを使用する場合:**\n",
    "- インタラクティブなアプリケーション（チャットボット、アシスタント）\n",
    "- 長いコンテンツの生成\n",
    "- リアルタイムのユーザーフィードバック\n",
    "- 体感パフォーマンスの向上"
   ]
  },
  {
   "cell_type": "code",
   "execution_count": null,
   "id": "0fa62a4e",
   "metadata": {},
   "outputs": [],
   "source": [
    "prompt_long_story = \"勇敢な騎士とフレンドリーなドラゴンについての短編小説を書いてください。\"\n",
    "\n",
    "print(\"ストリーミング応答:\")\n",
    "for chunk in client.models.generate_content_stream(\n",
    "    model=MODEL_ID,\n",
    "    contents=prompt_long_story\n",
    "):\n",
    "    if chunk.text:  # チャンクにテキストコンテンツがあるかどうかを確認\n",
    "        print(chunk.text, end=\"\", flush=True)\n",
    "print(\"\\n\")  # 最後に改行を追加"
   ]
  },
  {
   "cell_type": "markdown",
   "id": "5d3decfc",
   "metadata": {},
   "source": [
    "## 5. チャット（マルチターン会話）\n",
    "\n",
    "SDKチャットクラスは、会話履歴を追跡するためのインターフェースを提供します。内部的には、同じ `generate_content` メソッドを使用しています。"
   ]
  },
  {
   "cell_type": "code",
   "execution_count": null,
   "id": "e7311e26",
   "metadata": {},
   "outputs": [],
   "source": [
    "chat_session = client.chats.create(model=MODEL_ID)\n",
    "\n",
    "user_message1 = \"週末旅行を計画しています。ヨーロッパでのシティブレイクにおすすめはありますか？\"\n",
    "print(f\"ユーザー: {user_message1}\")\n",
    "response1 = chat_session.send_message(message=user_message1)\n",
    "print(f\"モデル: {response1.text}\\n\")"
   ]
  },
  {
   "cell_type": "code",
   "execution_count": null,
   "id": "115d7b8c",
   "metadata": {},
   "outputs": [],
   "source": [
    "user_message2 = \"歴史とおいしい食べ物が好きです。あまり高価でないものがいいです。\"\n",
    "print(f\"ユーザー: {user_message2}\")\n",
    "# TODO: user_message2 を使用して chat_session.send_message() メソッドを呼び出します。\n",
    "# response2 = chat_session.send_message(message=...)"
   ]
  },
  {
   "cell_type": "code",
   "execution_count": null,
   "id": "354c3f80",
   "metadata": {},
   "outputs": [],
   "source": [
    "# 会話履歴を表示\n",
    "history = chat_session.get_history()\n",
    "print(f\"会話の合計メッセージ数: {len(history)}\")"
   ]
  },
  {
   "cell_type": "markdown",
   "id": "13867852",
   "metadata": {},
   "source": [
    "## 6. システムインストラクション\n",
    "\n",
    "システムインストラクションを使用すると、モデルの動作と個性を定義できます。これらは会話全体で一貫して適用されます。\n",
    "\n",
    "**システムインストラクションのベストプラクティス:**\n",
    "- 具体的に、明確に\n",
    "- 役割とトーンを定義する\n",
    "- フォーマットの好みを指定する\n",
    "- 行動ガイドラインを設定する"
   ]
  },
  {
   "cell_type": "code",
   "execution_count": null,
   "id": "958cafa3",
   "metadata": {},
   "outputs": [],
   "source": [
    "system_instruction_poet = \"あなたは17世紀の有名な詩人で、ソネットを専門としています。弱強五歩格で応答し、雄弁で時代に合った言葉遣いをしてください。\"\n",
    "\n",
    "response_poet = client.models.generate_content(\n",
    "    model=MODEL_ID,\n",
    "    contents=\"現代のテクノロジーについてどう思いますか？\",\n",
    "    config=types.GenerateContentConfig(\n",
    "        system_instruction=system_instruction_poet\n",
    "    )\n",
    ")\n",
    "print(f\"\\n詩人モデルによる現代技術に関する応答:\\n{response_poet.text}\")"
   ]
  },
  {
   "cell_type": "markdown",
   "id": "80e3fa23",
   "metadata": {},
   "source": [
    "## 7. 生成設定\n",
    "\n",
    "設定パラメータを使用して、生成の動作をカスタマイズします。これらを理解することは、特定のユースケースに合わせて応答を微調整するのに役立ちます。"
   ]
  },
  {
   "cell_type": "code",
   "execution_count": null,
   "id": "d9f79eaa",
   "metadata": {},
   "outputs": [],
   "source": [
    "# 辞書を使用した設定\n",
    "generation_config_dict = {\n",
    "    \"temperature\": 0.2,      # 低いほど決定的、高いほど創造的\n",
    "    \"max_output_tokens\": 2000, # 応答の長さを制限\n",
    "    \"top_p\": 0.8,            # Nucleusサンプリング - トークン選択の多様性\n",
    "    \"top_k\": 30,             # 最も可能性の高い上位30トークンを考慮\n",
    "\n",
    "}\n",
    "\n",
    "# TODO: client.models.generate_content() を呼び出す\n",
    "# MODEL_ID、\"環境に優しいスニーカーの新ブランドの非常に短いタグラインを作成してください\" というプロンプト、\n",
    "# および generation_config_dict を渡します。\n",
    "# response_config = client.models.generate_content(\n",
    "#     model=...,\n",
    "#     contents=...,\n",
    "#     config=...\n",
    "# )"
   ]
  },
  {
   "cell_type": "markdown",
   "id": "4f74fed1",
   "metadata": {},
   "source": [
    "**パラメータガイド:**\n",
    "- **Temperature (0.0-2.0)**: ランダム性を制御します。事実に基づいたコンテンツには0.2〜0.4、創造的なコンテンツには0.7〜1.0を使用します\n",
    "- **Top-p (0.0-1.0)**: 多様性を制御します。値が低いほど焦点が絞られ、高いほど多様になります\n",
    "- **Top-k**: トークンの選択肢を制限します。値が低いほど焦点が絞られ、高いほど多様になります\n",
    "- **Max output tokens**: 過度に長い応答を防ぎ、コストを管理します\n",
    "\n",
    "## 8. 長いコンテキストとファイルのアップロード\n",
    "\n",
    "Gemini 2.5 Proには、100万トークンのコンテキストウィンドウがあります。実際には、100万トークンは次のようになります。\n",
    "\n",
    "- 50,000行のコード（1行あたり標準80文字）\n",
    "- 過去5年間に送信したすべてのテキストメッセージ\n",
    "- 平均的な長さの英語の小説8冊\n",
    "- 1時間のビデオデータ\n",
    "\n",
    "File APIを使用すると、ファイルをGemini APIにアップロードし、リクエストのコンテキストとして使用できます。"
   ]
  },
  {
   "cell_type": "code",
   "execution_count": null,
   "id": "46fd1b85",
   "metadata": {},
   "outputs": [],
   "source": [
    "# テキストファイルの例（音声の例よりも信頼性が高い）\n",
    "import requests\n",
    "\n",
    "# サンプルテキストファイルをダウンロード\n",
    "sample_text_url = \"https://www.gutenberg.org/files/74/74-0.txt\"  # トム・ソーヤーの冒険\n",
    "response_req = requests.get(sample_text_url)\n",
    "\n",
    "# ローカルファイルに保存\n",
    "with open(\"sample_book.txt\", \"w\", encoding=\"utf-8\") as f:\n",
    "    f.write(response_req.text)\n",
    "\n",
    "# ファイルをGemini APIにアップロード\n",
    "try:\n",
    "    myfile = client.files.upload(file=\"sample_book.txt\")\n",
    "    print(f\"ファイルが正常にアップロードされました: {myfile.name}\")\n",
    "    \n",
    "    # アップロードされたファイルをコンテキストとして使用してコンテンツを生成\n",
    "    response = client.models.generate_content(\n",
    "        model=MODEL_ID, \n",
    "        contents=[myfile, \"この本を3つの重要なポイントで要約してください\"])\n",
    "    \n",
    "    print(\"要約:\")\n",
    "    print(response.text)\n",
    "    \n",
    "    # 大規模なコンテキストのトークン使用量を確認\n",
    "    print(f\"\\nトークン使用量: {response.usage_metadata.total_token_count}\")\n",
    "    \n",
    "except Exception as e:\n",
    "    print(f\"ファイルのアップロード中にエラーが発生しました: {e}\")\n",
    "    print(\"ファイルが存在し、アクセス可能であることを確認してください\")"
   ]
  },
  {
   "cell_type": "markdown",
   "id": "33d60a9a",
   "metadata": {},
   "source": [
    "## 9. !! 演習: 「本」とチャットする !!\n",
    "\n",
    "「不思議の国のアリス」という本と「話す」ことができるインタラクティブなチャットセッションを作成します。AIに特定のペルソナを設定し、本のテキストを会話のコンテキストとして使用します。\n",
    "\n",
    "タスク: \n",
    "- 「不思議の国のアリス」のテキストをダウンロードします（ヘルパーコードブロックが提供されています）。\n",
    "- 本のテキストファイル（`alice_in_wonderland.txt`）を `client.files.upload()` を使用してGemini APIにアップロードします。\n",
    "- `client.chats.create()` を使用してチャットセッションを作成します。\n",
    "- `chat.send_message()` を使用してチャットセッションに最初のメッセージを送信します。\n",
    "- チャットセッションに少なくとも1つのフォローアップの質問（例：「音声配信のさまざまな方法を詳しく説明してください」）を送信し、その応答を印刷します。"
   ]
  },
  {
   "cell_type": "code",
   "execution_count": null,
   "id": "f6ca7919",
   "metadata": {},
   "outputs": [],
   "source": [
    "import requests\n",
    "\n",
    "# 不思議の国のアリスをダウンロード\n",
    "book_text_url = \"https://www.gutenberg.org/files/11/11-0.txt\"\n",
    "try:\n",
    "    response_book_req = requests.get(book_text_url)\n",
    "    response_book_req.raise_for_status()  # 不正なステータスコードに対して例外を発生させる\n",
    "    \n",
    "    with open(\"alice_in_wonderland.txt\", \"w\", encoding=\"utf-8\") as f:\n",
    "        f.write(response_book_req.text)\n",
    "    print(\"本が正常にダウンロードされました！\")\n",
    "    \n",
    "except requests.RequestException as e:\n",
    "    print(f\"本のダウンロード中にエラーが発生しました: {e}\")"
   ]
  },
  {
   "cell_type": "code",
   "execution_count": null,
   "id": "ec799247",
   "metadata": {},
   "outputs": [],
   "source": [
    "# TODO:"
   ]
  },
  {
   "cell_type": "code",
   "execution_count": null,
   "id": "11e8de35",
   "metadata": {},
   "outputs": [],
   "source": [
    "# TODO:"
   ]
  },
  {
   "cell_type": "markdown",
   "id": "2625d78f",
   "metadata": {},
   "source": [
    "## まとめと次のステップ\n",
    "\n",
    "**学習したこと:**\n",
    "- 単一プロンプトに対する `client.models.generate_content()` を使用した基本的なテキスト生成\n",
    "- より良いリソース管理のためのトークンカウントとコスト見積もり\n",
    "- ユーザーエクスペリエnciaを向上させるための `generate_content_stream()` を使用したストリーミング応答\n",
    "- `client.chats.create()` とチャットセッションを使用したマルチターン会話\n",
    "- 一貫したモデルの動作と個性のためのシステムインストラクション\n",
    "- 応答を微調整するための生成設定パラメータ\n",
    "- File APIを使用した長いコンテキストの処理とファイルのアップロード\n",
    "- 本番アプリケーションのエラー処理とベストプラクティス\n",
    "\n",
    "**重要なポイント:**\n",
    "- トークンの使用状況を監視してコストを管理し、制限内に収める\n",
    "- インタラクティブなアプリケーションと長い応答にはストリーミングを使用する\n",
    "- ユースケース（事実に基づいたコンテンツか創造的なコンテンツか）に基づいてパラメータを設定する\n",
    "- 堅牢なアプリケーションのために適切なエラー処理を実装する\n",
    "- システムインストラクションは、動作とトーンを設定するのに強力です\n",
    "\n",
    "**次のステップ:** [パート2：マルチモーダル機能](https://github.com/philschmid/gemini-2.5-ai-engineering-workshop/blob/main/notebooks/02-multimodal-capabilities.ipynb) に進みます [![Open In Colab](https://colab.research.google.com/assets/colab-badge.svg)](https://colab.research.google.com/github/philschmid/gemini-2.5-ai-engineering-workshop/blob/main/notebooks/02-multimodal-capabilities.ipynb)\n",
    "\n",
    "**その他のリソース:**\n",
    "- [テキスト生成ガイド](https://ai.google.dev/gemini-api/docs/text-generation)\n",
    "- [トークンカウントガイド](https://ai.google.dev/gemini-api/docs/tokens)\n",
    "- [長いコンテキストのドキュメント](https://ai.google.dev/gemini-api/docs/long-context)\n",
    "- [File API ドキュメント](https://ai.google.dev/gemini-api/docs/files)"
   ]
  }
 ],
 "metadata": {
  "jupytext": {
   "cell_metadata_filter": "-all",
   "main_language": "python",
   "notebook_metadata_filter": "-all"
  }
 },
 "nbformat": 4,
 "nbformat_minor": 5
}
