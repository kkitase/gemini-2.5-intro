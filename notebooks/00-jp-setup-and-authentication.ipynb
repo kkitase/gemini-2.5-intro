{
 "cells": [
  {
   "cell_type": "markdown",
   "id": "a443b2f5",
   "metadata": {},
   "source": [
    "# Google Colab ではじめる Gemini API、環境を準備しよう。\n",
    "\n",
    "「Google の AI、Gemini を自分のプログラムで使ってみたいけど、何からはじめればいいか分からない…」\n",
    "\n",
    "そんな風に思っていませんか？この記事では、開発の第一歩となる「API キーの取得」から、Gemini を動かすための基本について、ハンズオン形式で学びます。[「Google Colab」](https://colab.research.google.com/) を使って、サンプルコードを実行しながら進めるので、プログラミング初心者の方でも安心です。\n",
    "\n",
    "Gemini API を利用する環境には、手軽に試せる[「Google AI Studio」](https://aistudio.google.com/)と、企業向けの高機能な[「Vertex AI」](https://cloud.google.com/vertex-ai)があります。このハンズオンでは、Google AI Studio を使って API キーを取得し、Gemini API を試していきます。\n",
    "\n",
    "![alt text](../assets/00-0-1.png)"
   ]
  },
  {
   "cell_type": "markdown",
   "id": "3363a768",
   "metadata": {},
   "source": [
    "以下のボタンから Notebook を開いて進めましょう。\n",
    "\n",
    "[![Open In Colab](https://colab.research.google.com/assets/colab-badge.svg)](https://colab.research.google.com/github/kkitase/gemini-2.5-findy/blob/main/notebooks/00-jp-setup-and-authentication.ipynb)\n",
    "\n",
    "以降の解説は、Google Colab で実際にコードを実行しながら進めることを想定していますが、コードと解説を読み進めるだけでも学習できます。"
   ]
  },
  {
   "cell_type": "markdown",
   "id": "bfd5d261",
   "metadata": {},
   "source": [
    "## 1. Gemini API キーを入手し、Google Colab に設定する\n",
    "\n",
    "まずは、Gemini API キーを入手し、Google Colab に設定します。\n",
    "\n",
    "1.  **Google AI Studio にアクセス**: ウェブブラウザで [Google AI Studio](https://aistudio.google.com/apikey) にアクセスします。\n",
    "2.  **API キーの取得**: 画面の指示に従って、新しい API キーを作成します。このキーは、アプリケーションから Gemini を呼び出すための「鍵」の役割を果たします。大切に保管してください。\n",
    "3.  Google Colab で左のパネルから、シークレットタブ（🔑）を開きます。\n",
    "![alt text](../assets/00-1-1.png)\n",
    "4.  `GEMINI_API_KEY` という名前で、新しいシークレットキーを作成します。\n",
    "5.  `GEMINI_API_KEY` の「値 (Value)」入力欄に、先ほど作成した Gemini API キーをコピーして貼り付けます。\n",
    "6.  左側にあるトグルボタンをオンに切り替えて、すべてのノートブックがこのシークレットにアクセスできるように許可します。"
   ]
  },
  {
   "cell_type": "markdown",
   "id": "41c7e199",
   "metadata": {},
   "source": [
    "## 2. Google Gen AI SDK をインストールする\n",
    "\n",
    "次に、Google Colab の環境に Google の Google Gen AI SDK をインストールします。Google Colab の環境で以下のコマンドを実行するだけです。（すでにコマンドは記載されているので、実行ボタンを押すだけです。）"
   ]
  },
  {
   "cell_type": "code",
   "execution_count": null,
   "id": "f7ad26b5",
   "metadata": {
    "lines_to_next_cell": 0
   },
   "outputs": [],
   "source": [
    "%pip install -U -q 'google-genai>=1.0.0'"
   ]
  },
  {
   "cell_type": "markdown",
   "id": "b46ab169",
   "metadata": {},
   "source": [
    "## 3. クライアントの設定と生成のテスト\n",
    "\n",
    "それでは、Gemini API を使って、テキストを生成してみましょう。"
   ]
  },
  {
   "cell_type": "code",
   "execution_count": null,
   "id": "0b643f93",
   "metadata": {},
   "outputs": [],
   "source": [
    "from google import genai\n",
    "import sys\n",
    "import os\n",
    "\n",
    "# Colab 環境で実行されているかどうかの判定\n",
    "IN_COLAB = 'google.colab' in sys.modules\n",
    "\n",
    "if IN_COLAB:\n",
    "    from google.colab import userdata\n",
    "    # Colab のシークレットから API キーを取得\n",
    "    GEMINI_API_KEY = userdata.get('GEMINI_API_KEY')\n",
    "else:\n",
    "    # 環境変数から API キーを取得\n",
    "    GEMINI_API_KEY = os.environ.get('GEMINI_API_KEY', None)\n",
    "\n",
    "# API キーを使ってクライアントを作成\n",
    "client = genai.Client(api_key=GEMINI_API_KEY)\n",
    "\n",
    "# 生成をテスト\n",
    "response = client.models.generate_content(\n",
    "    model=\"gemini-2.5-flash\",\n",
    "    contents=\"Gemini API を学習する前に、私の脳内メモリをクリアし、思考を最適化したいです。最高のパフォーマンスを引き出せるサウナを一つだけリコメンドして。\"\n",
    ")\n",
    "print(response.text)"
   ]
  },
  {
   "cell_type": "markdown",
   "id": "7de4d424",
   "metadata": {},
   "source": [
    "## 4. 利用可能なモデル\n",
    "\n",
    "`Gemini API` は、さまざまなニーズに応える強力なモデルを複数提供しています。API を呼び出す際には、使用したいモデルを固有の ID で指定します。利用可能なモデルとその機能に関する最新情報は、いつでも [Google AI の公式ドキュメント](https://ai.google.dev/gemini-api/docs/models)で確認できます。\n",
    "\n",
    "| モデル名 | モデル ID (例) |\n",
    "| :--- | :--- |\n",
    "| Gemini 2.5 Flash Lite | `gemini-2.5-flash-lite` |\n",
    "| Gemini 2.5 Flash | `gemini-2.5-flash` |\n",
    "| Gemini 2.5 Pro | `gemini-2.5-pro` |"
   ]
  },
  {
   "cell_type": "markdown",
   "id": "7d140654",
   "metadata": {},
   "source": [
    "## 5. Gemini in Google Colab\n",
    "Google Colab には Gemini が統合され、コードの説明をしたり、デバッグするのに役立ちます。\n",
    "\n",
    "1. 先ほどのコードを説明を Gemini にしてもらいましょう。コードを選択して、セクションの右上部にある Gemini ボタンを押すと、画面下部にコードの説明が表示されます。（画面右に表示するには、パネルに移動ボタンを押します。）\n",
    "![alt text](../assets/00-5-1.png)\n",
    "2. gemini-2.5-flash を gemini-5.0-flash に変えて実行してみます。エラーが出ますので、説明ボタンを押してデバッグしてみましょう。修正コードを提案してくるので、承認して実行を押してみましょう。![alt text](../assets/00-5-2.png)"
   ]
  },
  {
   "cell_type": "markdown",
   "id": "7fd0520a",
   "metadata": {},
   "source": [
    "## 6. Vertex AI\n",
    "\n",
    "企業でアプリケーションを開発したい場合は、Google Cloud の Vertex AI を利用します。Vertex AI 上で、Gemini API を利用する場合は、ユーザーデータを学習に使われません。Vertex AI を試す環境としては、[Vertex AI Studio](https://console.cloud.google.com/vertex-ai/studio/) があります。\n",
    "![alt text](../assets/00-6-1.png)\n",
    "\n",
    "\n",
    "\n"
   ]
  },
  {
   "cell_type": "markdown",
   "id": "0b094229",
   "metadata": {},
   "source": [
    "Vertex AI 上の、Gemini API を使って、テキストを生成してみましょう。"
   ]
  },
  {
   "cell_type": "code",
   "execution_count": null,
   "id": "02e67510",
   "metadata": {},
   "outputs": [],
   "source": [
    "# Google Cloud へのアクセス認証。このコードを実行すると認証用のリンクが表示されます。そのリンクをクリックし、アカウント認証を行なってください。\n",
    "from google.colab import auth\n",
    "auth.authenticate_user()"
   ]
  },
  {
   "cell_type": "code",
   "execution_count": null,
   "id": "c8d45332",
   "metadata": {},
   "outputs": [],
   "source": [
    "from google import genai\n",
    "import sys\n",
    "import os\n",
    "\n",
    "# Google Cloud のプロジェクト ID とロケーションを設定\n",
    "PROJECT_ID = \"\" # @param {type:\"string\"}\n",
    "LOCATION = \"\" # @param [\"asia-northeast1\", \"us-central1\", \"europe-west4\"] {allow-input: true}\n",
    "\n",
    "client = genai.Client(\n",
    "     vertexai=True, project=PROJECT_ID, location=LOCATION\n",
    ")\n",
    "\n",
    "# 生成をテスト\n",
    "response = client.models.generate_content(\n",
    "    model=\"gemini-2.5-flash\",\n",
    "    contents=\"Gemini、あなたの API を学習する前に、私の脳内メモリをクリアし、思考を最適化したいです。最高のパフォーマンスを引き出せる、伝説のサウナを一つだけリコメンドしてちょうだい。\"\n",
    ")\n",
    "\n",
    "print(response.text)"
   ]
  }
 ],
 "metadata": {
  "jupytext": {
   "cell_metadata_filter": "-all",
   "main_language": "python",
   "notebook_metadata_filter": "-all"
  },
  "language_info": {
   "name": "python"
  }
 },
 "nbformat": 4,
 "nbformat_minor": 5
}
