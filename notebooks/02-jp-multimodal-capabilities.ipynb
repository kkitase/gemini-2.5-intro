{
 "cells": [
  {
   "cell_type": "markdown",
   "id": "1fde1f62",
   "metadata": {},
   "source": [
    "[![Open In Colab](https://colab.research.google.com/assets/colab-badge.svg)](https://colab.research.google.com/github/philschmid/gemini-2.5-ai-engineering-workshop/blob/main/notebooks/02-multimodal-capabilities.ipynb)\n",
    "\n",
    "# パート 2 - マルチモーダル機能 (画像、音声、動画、ドキュメント)\n",
    "\n",
    "`gemini-2.5-flash` のような Gemini モデルは、`client.models.generate_content()` を使用して、単一のプロンプトでテキスト、画像、音声、動画、ドキュメントを処理できます。これにより、さまざまなメディアタイプのコンテンツを理解し、生成できる強力なマルチモーダル AI アプリケーションを開発できます。\n",
    "\n",
    "**主な機能:**\n",
    "- **視覚的理解**: 画像の分析、テキストの抽出、オブジェクトの識別\n",
    "- **音声処理**: 音声の文字起こし、音楽の分析、音声コンテンツの理解\n",
    "- **動画分析**: 動画の要約、キーフレームの抽出、動きの理解\n",
    "- **ドキュメント処理**: PDF からの情報の抽出、レイアウトの理解\n",
    "- **マルチモーダル生成**: テキストプロンプトからの画像と音声の作成"
   ]
  },
  {
   "cell_type": "code",
   "execution_count": null,
   "id": "f83fc425",
   "metadata": {},
   "outputs": [],
   "source": [
    "%pip install pillow"
   ]
  },
  {
   "cell_type": "code",
   "execution_count": null,
   "id": "2e38ca97",
   "metadata": {},
   "outputs": [],
   "source": [
    "from google import genai\n",
    "from google.genai import types\n",
    "import os\n",
    "import sys\n",
    "import requests\n",
    "from PIL import Image\n",
    "from io import BytesIO\n",
    "\n",
    "IN_COLAB = 'google.colab' in sys.modules\n",
    "\n",
    "if IN_COLAB:\n",
    "    from google.colab import userdata\n",
    "    GEMINI_API_KEY = userdata.get('GEMINI_API_KEY')\n",
    "else:\n",
    "    GEMINI_API_KEY = os.environ.get('GEMINI_API_KEY',None)\n",
    "\n",
    "# APIキーでクライアントを作成\n",
    "MODEL_ID = \"gemini-2.5-flash-preview-05-20\"\n",
    "client = genai.Client(api_key=GEMINI_API_KEY)"
   ]
  },
  {
   "cell_type": "markdown",
   "id": "0518d04b",
   "metadata": {},
   "source": [
    "## 1. 画像理解: 単一の画像\n",
    "\n",
    "Gemini は、PIL `Image` オブジェクト、生のバイト、または File API を介してアップロードされたファイルなど、複数の形式の画像を分析できます。\n",
    "\n",
    "**各メソッドの使い分け:**\n",
    "- **生のバイト**: API やメモリからの画像データを扱う場合\n",
    "- **File API**: 20MB を超える大きな画像や、複数のリクエストで画像を再利用したい場合"
   ]
  },
  {
   "cell_type": "code",
   "execution_count": null,
   "id": "24941145",
   "metadata": {},
   "outputs": [],
   "source": [
    "    "
   ]
  }
 ],
 "metadata": {
  "language_info": {
   "name": "python"
  }
 },
 "nbformat": 4,
 "nbformat_minor": 5
}
