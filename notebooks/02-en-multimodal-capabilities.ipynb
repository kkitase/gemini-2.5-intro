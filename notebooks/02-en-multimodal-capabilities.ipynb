{
 "cells": [
  {
   "cell_type": "markdown",
   "id": "1fde1f62",
   "metadata": {},
   "source": [
    "[![Open In Colab](https://colab.research.google.com/assets/colab-badge.svg)](https://colab.research.google.com/github/philschmid/gemini-2.5-ai-engineering-workshop/blob/main/notebooks/02-multimodal-capabilities.ipynb)\n",
    "\n",
    "# Part 2 - Multimodal Capabilities (Images, Audio, Video, Documents)\n",
    "\n",
    "Gemini models like `gemini-2.5-flash-preview-05-20` can process text, images, audio, video, and documents in a single prompt using `client.models.generate_content()`. This enables powerful multimodal AI applications that can understand and generate content across different media types.\n",
    "\n",
    "**Key Capabilities:**\n",
    "- **Visual Understanding**: Analyze images, extract text, identify objects\n",
    "- **Audio Processing**: Transcribe speech, analyze music, understand audio content\n",
    "- **Video Analysis**: Summarize videos, extract key frames, understand motion\n",
    "- **Document Processing**: Extract information from PDFs, understand layouts\n",
    "- **Multimodal Generation**: Create images and speech from text prompts"
   ]
  },
  {
   "cell_type": "code",
   "execution_count": null,
   "id": "f83fc425",
   "metadata": {},
   "outputs": [],
   "source": [
    "%pip install pillow"
   ]
  },
  {
   "cell_type": "code",
   "execution_count": null,
   "id": "2e38ca97",
   "metadata": {},
   "outputs": [],
   "source": [
    "from google import genai\n",
    "from google.genai import types\n",
    "import os\n",
    "import sys\n",
    "import requests\n",
    "from PIL import Image\n",
    "from io import BytesIO\n",
    "\n",
    "IN_COLAB = 'google.colab' in sys.modules\n",
    "\n",
    "if IN_COLAB:\n",
    "    from google.colab import userdata\n",
    "    GEMINI_API_KEY = userdata.get('GEMINI_API_KEY')\n",
    "else:\n",
    "    GEMINI_API_KEY = os.environ.get('GEMINI_API_KEY',None)\n",
    "\n",
    "# Create client with api key\n",
    "MODEL_ID = \"gemini-2.5-flash-preview-05-20\"\n",
    "client = genai.Client(api_key=GEMINI_API_KEY)"
   ]
  },
  {
   "cell_type": "markdown",
   "id": "0518d04b",
   "metadata": {},
   "source": [
    "## 1. Image Understanding: Single Image\n",
    "\n",
    "Gemini can analyze images in multiple formats: PIL `Image` objects, raw bytes, or uploaded files via the File API.\n",
    "\n",
    "**When to use each method:**\n",
    "- **Raw bytes**: When working with image data from APIs or memory\n",
    "- **File API**: Large images (>20MB), when you want to reuse images across multiple requests"
   ]
  },
  {
   "cell_type": "code",
   "execution_count": null,
   "id": "24941145",
   "metadata": {},
   "outputs": [],
   "source": [
    "!curl -o image.jpg \"https://storage.googleapis.com/generativeai-downloads/images/Cupcakes.jpg\""
   ]
  },
  {
   "cell_type": "code",
   "execution_count": null,
   "id": "70f89caf",
   "metadata": {},
   "outputs": [],
   "source": [
    "with open('image.jpg', 'rb') as f:\n",
    "    image_bytes = f.read()\n",
    "\n",
    "prompt_specific = \"Are there any fruits visible?\"\n",
    "\n",
    "response_specific = client.models.generate_content(\n",
    "    model=MODEL_ID,\n",
    "    contents=[\"What is this image?\",\n",
    "            types.Part.from_bytes(data=image_bytes, mime_type=\"image/jpeg\")]\n",
    ")\n",
    "print(response_specific.text)"
   ]
  },
  {
   "cell_type": "markdown",
   "id": "f1163bd4",
   "metadata": {},
   "source": [
    "You can use the File API for large payloads (>20MB).\n",
    "\n",
    "> The File API lets you store up to 20 GB of files per project, with a per-file maximum size of 2 GB. Files are stored for 48 hours. They can be accessed in that period with your API key, but cannot be downloaded from the API. It is available at no cost in all regions where the Gemini API is available."
   ]
  },
  {
   "cell_type": "code",
   "execution_count": null,
   "id": "103e1f60",
   "metadata": {},
   "outputs": [],
   "source": [
    "file_id = client.files.upload(file=\"../assets/data/Cupcakes.jpg\")\n",
    "\n",
    "response = client.models.generate_content(\n",
    "    model=MODEL_ID,\n",
    "    contents=[\"What is this image?\", file_id]\n",
    ")\n",
    "\n",
    "print(response.text)"
   ]
  },
  {
   "cell_type": "markdown",
   "id": "7691da91",
   "metadata": {},
   "source": [
    "> The File API lets you store up to 20 GB of files per project, with a per-file maximum size of 2 GB. Files are stored for 48 hours. They can be accessed in that period with your API key, but cannot be downloaded from the API. It is available at no cost in all regions where the Gemini API is available.\n",
    "\n",
    "## 2. Image Understanding: Multiple Images\n",
    "\n",
    "Gemini can analyze and compare multiple images simultaneously, which is powerful for comparative analysis, visual storytelling, or understanding sequences."
   ]
  },
  {
   "cell_type": "code",
   "execution_count": null,
   "id": "2c381879",
   "metadata": {},
   "outputs": [],
   "source": [
    "image_url_1 = \"https://plus.unsplash.com/premium_photo-1694819488591-a43907d1c5cc?fm=jpg&q=60&w=3000&ixlib=rb-4.1.0&ixid=M3wxMjA3fDB8MHxzZWFyY2h8MXx8Y3V0ZSUyMGRvZ3xlbnwwfHwwfHx8MA%3D%3D\" # Dog\n",
    "image_url_2 = \"https://images.pexels.com/photos/2071882/pexels-photo-2071882.jpeg?auto=compress&cs=tinysrgb&dpr=1&w=500\" # Cat\n",
    "\n",
    "image_response_req_1 = requests.get(image_url_1)\n",
    "image_response_req_2 = requests.get(image_url_2)\n",
    "\n",
    "\n",
    "# TODO: Call client.models.generate_content() to compare the two images.\n",
    "# The contents should be a list containing:\n",
    "# 1. A text part: \"Compare these two images. What are the main subjects in each, and what are they doing?\"\n",
    "# 2. A text part: \"Image 1:\"\n",
    "# 3. Image 1 bytes as a Part: types.Part.from_bytes(data=image_response_req_1.content, mime_type=\"image/jpeg\")\n",
    "# 4. A text part: \"Image 2:\"\n",
    "# 5. Image 2 bytes as a Part: types.Part.from_bytes(data=image_response_req_2.content, mime_type=\"image/jpeg\")\n",
    "# response_multi = client.models.generate_content(\n",
    "#     model=MODEL_ID,\n",
    "#     contents=[\n",
    "#         ...,\n",
    "#         ..., ..., \n",
    "#         ..., ...\n",
    "#     ]\n",
    "# )\n",
    "# print(response_multi.text)"
   ]
  },
  {
   "cell_type": "markdown",
   "id": "66101f33",
   "metadata": {},
   "source": [
    "## 3. !! Exercise: Product Description from Image !!\n",
    "\n",
    "Use Gemini to analyze an image of a product and generate a detailed description, including features, use cases, and a marketing slogan.\n",
    "\n",
    "Tasks:\n",
    "- Find an image URL of a product (e.g., a backpack, a mug, a piece of electronics).\n",
    "- Use the `requests` library to get the image content from the URL.\n",
    "- Create a `types.Part` object from the image bytes.\n",
    "- Create a text `types.Part` object containing a prompt that asks the model about the Product. \n",
    "- Call `client.models.generate_content()` with the `MODEL_ID` and a list containing your text prompt part and the image part."
   ]
  },
  {
   "cell_type": "code",
   "execution_count": null,
   "id": "d0f24b2b",
   "metadata": {},
   "outputs": [],
   "source": [
    "# TODO: "
   ]
  },
  {
   "cell_type": "markdown",
   "id": "a6afce35",
   "metadata": {},
   "source": [
    "## 4. Audio Understanding\n",
    "\n",
    "Gemini can process audio files for transcription, content analysis, speaker identification, and audio summarization. This is particularly useful for podcasts, meetings, interviews, and voice memos.\n",
    "\n",
    "**Supported audio formats**: MP3, WAV, FLAC, AAC, and other common formats"
   ]
  },
  {
   "cell_type": "code",
   "execution_count": null,
   "id": "ea786638",
   "metadata": {},
   "outputs": [],
   "source": [
    "file_path = \"../assets/data/audio.mp3\"\n",
    "\n",
    "file_id = client.files.upload(file=file_path)\n",
    "\n",
    "# Generate a structured response using the Gemini API\n",
    "prompt = \"\"\"Generate a transcript of the episode. Include timestamps and identify speakers.\n",
    "\n",
    "Speakers:\n",
    "- John\n",
    "\n",
    "eg:\n",
    "[00:00] Brady: Hello there.\n",
    "[00:02] Tim: Hi Brady.\n",
    "\n",
    "It is important to include the correct speaker names. Use the names you identified earlier. If you really don't know the speaker's name, identify them with a letter of the alphabet, eg there may be an unknown speaker 'A' and another unknown speaker 'B'.\n",
    "\n",
    "If there is music or a short jingle playing, signify like so:\n",
    "[01:02] [MUSIC] or [01:02] [JINGLE]\n",
    "\n",
    "If you can identify the name of the music or jingle playing then use that instead, eg:\n",
    "[01:02] [Firework by Katy Perry] or [01:02] [The Sofa Shop jingle]\n",
    "\n",
    "If there is some other sound playing try to identify the sound, eg:\n",
    "[01:02] [Bell ringing]\n",
    "\n",
    "Each individual caption should be quite short, a few short sentences at most.\n",
    "\n",
    "Signify the end of the episode with [END].\n",
    "\n",
    "Don't use any markdown formatting, like bolding or italics.\n",
    "\n",
    "Only use characters from the English alphabet, unless you genuinely believe foreign characters are correct.\n",
    "\n",
    "It is important that you use the correct words and spell everything correctly. Use the context of the podcast to help.\n",
    "If the hosts discuss something like a movie, book or celebrity, make sure the movie, book, or celebrity name is spelled correctly.\"\"\"\n",
    "audio_part = types.Part.from_uri(file_uri=file_id.uri, mime_type=file_id.mime_type)\n",
    "\n",
    "response = client.models.generate_content(\n",
    "    model=MODEL_ID,\n",
    "    contents=[prompt, audio_part]\n",
    ")\n",
    "print(response.text)"
   ]
  },
  {
   "cell_type": "markdown",
   "id": "51a73cd8",
   "metadata": {},
   "source": [
    "## 5. Video Understanding\n",
    "\n",
    "Gemini can process video files to understand their content, analyze scenes, identify objects and actions, and provide detailed summaries.\n",
    "\n",
    "**Video capabilities:**\n",
    "- Scene analysis and summarization\n",
    "- Object and action recognition\n",
    "- Temporal understanding (what happens when)\n",
    "- Content extraction and key moments\n",
    "- YouTube video analysis"
   ]
  },
  {
   "cell_type": "code",
   "execution_count": null,
   "id": "45531e3b",
   "metadata": {},
   "outputs": [],
   "source": [
    "from time import sleep\n",
    "\n",
    "video_path = \"../assets/data/standup.mp4\"\n",
    "\n",
    "video_file_id = client.files.upload(file=video_path)\n",
    "def wait_for_file_ready(file_id):\n",
    "    while file_id.state == \"PROCESSING\":\n",
    "        sleep(1)\n",
    "        file_id = client.files.get(name=file_id.name)\n",
    "        wait_for_file_ready(file_id)\n",
    "    return file_id\n",
    "\n",
    "video_file_id = wait_for_file_ready(video_file_id)\n",
    "\n",
    "\n",
    "prompt = \"Describe the main events in this video. What is the primary subject?\"\n",
    "video_part = types.Part.from_uri(file_uri=video_file_id.uri, mime_type=video_file_id.mime_type)\n",
    "\n",
    "\n",
    "\n",
    "# TODO: Call client.models.generate_content() to analyze the video.\n",
    "# The contents should be a list containing the prompt and video_part.\n",
    "# response = client.models.generate_content(\n",
    "#     model=MODEL_ID,\n",
    "#     contents=[..., ...]\n",
    "# )\n",
    "# print(response.text)"
   ]
  },
  {
   "cell_type": "markdown",
   "id": "26d330fe",
   "metadata": {},
   "source": [
    "### YouTube Video Analysis\n",
    "\n",
    "The Gemini API supports direct YouTube URL analysis, which is very convenient for content analysis:"
   ]
  },
  {
   "cell_type": "code",
   "execution_count": null,
   "id": "bbad84ec",
   "metadata": {},
   "outputs": [],
   "source": [
    "# Analyze a YouTube video directly\n",
    "youtube_url = \"https://www.youtube.com/watch?v=dwgmfSOZNoQ\"  # Google Cloud Next '25 Opening Keynote\n",
    "\n",
    "youtube_part = genai.types.Part(\n",
    "    file_data=genai.types.FileData(file_uri=youtube_url)\n",
    ")\n",
    "prompt = \"What was the biggest Gemini announcement in this video?\"\n",
    "\n",
    "response = client.models.generate_content(\n",
    "    model=MODEL_ID,\n",
    "    contents=[prompt, youtube_part]\n",
    ")\n",
    "\n",
    "print(response.text)"
   ]
  },
  {
   "cell_type": "markdown",
   "id": "bde430a1",
   "metadata": {},
   "source": [
    "## 6. !! Exercise: Summarize a YouTube Video !!\n",
    "\n",
    "Analyze a YouTube video using its URL and generate a summary or transcript.\n",
    "\n",
    "Tasks:\n",
    "- Find a YouTube video URL (e.g., a tutorial, news segment, or educational video).\n",
    "- Create a `genai.types.Part` object from the YouTube URL. You can use `genai.types.Part(file_data=genai.types.FileData(file_uri=youtube_url))` for this.\n",
    "- Define a prompt asking the model to perform a task, such as summarizing the video.\n",
    "- Call `client.models.generate_content()` with the `MODEL_ID`, your prompt, and the YouTube video part."
   ]
  },
  {
   "cell_type": "code",
   "execution_count": null,
   "id": "04e1459d",
   "metadata": {},
   "outputs": [],
   "source": [
    "# TODO:"
   ]
  },
  {
   "cell_type": "markdown",
   "id": "328abd45",
   "metadata": {},
   "source": [
    "**Try these variations:**\n",
    "- Analyze a tutorial video and extract step-by-step instructions\n",
    "- Summarize a news video and identify key facts vs. opinions\n",
    "- Analyze a product review and extract pros/cons\n",
    "- Process an educational video and create study notes\n",
    "\n",
    "## 7. Working with PDF/Document Files\n",
    "\n",
    "Gemini can extract information from PDFs and other document formats, making it excellent for document analysis, data extraction, and content summarization.\n",
    "\n",
    "**Common use cases:**\n",
    "- Invoice processing and data extraction\n",
    "- Contract analysis and summarization\n",
    "- Research paper analysis\n",
    "- Form processing and validation\n",
    "- Document classification and routing"
   ]
  },
  {
   "cell_type": "code",
   "execution_count": null,
   "id": "025c2cf3",
   "metadata": {},
   "outputs": [],
   "source": [
    "pdf_file_path = \"../assets/data/rewe_invoice.pdf\"\n",
    "\n",
    "pdf_file_id = client.files.upload(file=pdf_file_path)\n",
    "\n",
    "prompt = \"What is the total amount due?\"\n",
    "pdf_part = types.Part.from_uri(file_uri=pdf_file_id.uri, mime_type=pdf_file_id.mime_type)\n",
    "\n",
    "response = client.models.generate_content(\n",
    "    model=MODEL_ID,\n",
    "    contents=[prompt, pdf_part]\n",
    ")\n",
    "print(response.text)"
   ]
  },
  {
   "cell_type": "markdown",
   "id": "a5861d83",
   "metadata": {},
   "source": [
    "## 7. Code \n",
    "\n",
    "Gemini is good at understanding and generating code. Let's use [gitingest](https://github.com/cyclotruc/gitingest) to chat with a GitHub repo:"
   ]
  },
  {
   "cell_type": "code",
   "execution_count": null,
   "id": "0d292ec0",
   "metadata": {},
   "outputs": [],
   "source": [
    "%pip install gitingest"
   ]
  },
  {
   "cell_type": "code",
   "execution_count": null,
   "id": "e7e3aac3",
   "metadata": {},
   "outputs": [],
   "source": [
    "from gitingest import ingest_async\n",
    "\n",
    "summary, tree, content = await ingest_async(\"https://github.com/philschmid/nextjs-gemini-2-0-pdf-structured-data\")"
   ]
  },
  {
   "cell_type": "code",
   "execution_count": null,
   "id": "c6193367",
   "metadata": {},
   "outputs": [],
   "source": [
    "print(summary)"
   ]
  },
  {
   "cell_type": "code",
   "execution_count": null,
   "id": "c7d8cc23",
   "metadata": {},
   "outputs": [],
   "source": [
    "print(tree)"
   ]
  },
  {
   "cell_type": "code",
   "execution_count": null,
   "id": "e9567a58",
   "metadata": {},
   "outputs": [],
   "source": [
    "prompt = f\"\"\"Explain what repository is about:\n",
    "\n",
    "Code:\n",
    "{content}\n",
    "\"\"\"\n",
    "\n",
    "chat = client.chats.create(model=MODEL_ID)\n",
    "\n",
    "response = chat.send_message(prompt)\n",
    "print(response.text)"
   ]
  },
  {
   "cell_type": "code",
   "execution_count": null,
   "id": "830332fd",
   "metadata": {},
   "outputs": [],
   "source": [
    "response = chat.send_message(\"How are the schemas defined?\")\n",
    "print(response.text)"
   ]
  },
  {
   "cell_type": "code",
   "execution_count": null,
   "id": "36b76646",
   "metadata": {},
   "outputs": [],
   "source": [
    "response = chat.send_message(\"Update all schema route to use the new Gemini 2.5 models, `gemini-2.5-flash-preview-05-20`. Return only the updated file.\")\n",
    "print(response.text)"
   ]
  },
  {
   "cell_type": "markdown",
   "id": "751c86e6",
   "metadata": {},
   "source": [
    "## 9. Image Generation\n",
    "\n",
    "Generate high-quality images using Gemini's image generation capabilities. This feature is perfect for creating visual content, prototypes, marketing materials, and creative projects.\n",
    "\n",
    "**Image Generation Features:**\n",
    "- Text-to-image generation\n",
    "- Style control through prompts\n",
    "- High-resolution output\n",
    "- SynthID watermarking for authenticity\n",
    "- Multiple aspect ratios and sizes"
   ]
  },
  {
   "cell_type": "code",
   "execution_count": null,
   "id": "d85c04ba",
   "metadata": {},
   "outputs": [],
   "source": [
    "from PIL import Image\n",
    "from io import BytesIO\n",
    "\n",
    "\n",
    "prompt_text = \"A photo of a cat\"\n",
    "\n",
    "response = client.models.generate_content(\n",
    "    model=\"gemini-2.0-flash-preview-image-generation\",\n",
    "    contents=prompt_text,\n",
    "    config=types.GenerateContentConfig(\n",
    "      response_modalities=['TEXT', 'IMAGE']\n",
    "    )\n",
    ")\n",
    "\n",
    "# Process the response\n",
    "image_saved = False\n",
    "for part in response.candidates[0].content.parts:\n",
    "  if part.text is not None:\n",
    "    print(f\"Text response: {part.text}\")\n",
    "  elif part.inline_data is not None and part.inline_data.mime_type.startswith('image/'):\n",
    "      image = Image.open(BytesIO(part.inline_data.data))\n",
    "      image_filename = 'gemini_generated_image.png'\n",
    "      image.save(image_filename)\n",
    "\n",
    "image"
   ]
  },
  {
   "cell_type": "markdown",
   "id": "cf5cdb14",
   "metadata": {},
   "source": [
    "**Image Generation Tips:**\n",
    "- Be specific about style (photorealistic, illustration, cartoon, etc.)\n",
    "- Include lighting and mood descriptors\n",
    "- Specify composition details (close-up, wide shot, etc.)\n",
    "- Mention art styles or references when relevant\n",
    "- Consider aspect ratio and resolution needs\n",
    "\n",
    "> **Note**: All generated images include a SynthID watermark for authenticity verification. More details in the [official documentation](https://ai.google.dev/gemini-api/docs/image-generation).\n",
    "\n",
    "## 10. Text to Speech\n",
    "\n",
    "Convert text into natural-sounding speech with controllable voice characteristics. This feature enables creating audio content, accessibility features, and interactive applications.\n",
    "\n",
    "**TTS Capabilities:**\n",
    "- Multiple voice options and styles\n",
    "- Controllable pace, tone, and emotion\n",
    "- Single-speaker and multi-speaker audio\n",
    "- High-quality audio output\n",
    "- Natural language voice direction\n",
    "\n",
    "For this example, we'll use the `gemini-2.5-flash-preview-tts` model to generate single-speaker audio. You'll need to set the `response_modalities` to `[\"AUDIO\"]` and provide a `SpeechConfig`."
   ]
  },
  {
   "cell_type": "code",
   "execution_count": null,
   "id": "28581b5d",
   "metadata": {},
   "outputs": [],
   "source": [
    "%pip install soundfile numpy"
   ]
  },
  {
   "cell_type": "code",
   "execution_count": null,
   "id": "261600eb",
   "metadata": {},
   "outputs": [],
   "source": [
    "import soundfile as sf\n",
    "import numpy as np\n",
    "from IPython.display import Audio, display\n",
    "\n",
    "text_to_speak = \"Say cheerfully: AI Eingeering Worlds Fair is the best conference in the world!\"\n",
    "\n",
    "response_tts = client.models.generate_content(\n",
    "   model=\"gemini-2.5-flash-preview-tts\", # Specific model for TTS\n",
    "   contents=text_to_speak,\n",
    "   config=types.GenerateContentConfig(\n",
    "      response_modalities=[\"AUDIO\"],\n",
    "      speech_config=types.SpeechConfig(\n",
    "         voice_config=types.VoiceConfig(\n",
    "            prebuilt_voice_config=types.PrebuiltVoiceConfig(\n",
    "               voice_name='Kore', # Choose from available prebuilt voices\n",
    "            )\n",
    "         )\n",
    "      ),\n",
    "   )\n",
    ")\n",
    "\n",
    "audio_array = np.frombuffer(response_tts.candidates[0].content.parts[0].inline_data.data, dtype=np.int16)\n",
    "sf.write(\"generated_speech.wav\", audio_array, 24000)\n",
    "display(Audio(\"generated_speech.wav\"))"
   ]
  },
  {
   "cell_type": "markdown",
   "id": "b30cf155",
   "metadata": {},
   "source": [
    "## !! Exercise: Avatar Generation !!\n",
    "\n",
    "\n",
    "Combine image generation and text-to-speech capabilities to create a visual avatar and an audio introduction for it.\n",
    "\n",
    "\n",
    "1.  **Generate an Avatar Image:**\n",
    "    - Write a descriptive prompt for an avatar image (e.g., \"A friendly, futuristic robot assistant with a welcoming smile, digital art style, high resolution\").\n",
    "    - Use `client.models.generate_content()` with the model `gemini-2.0-flash-preview-image-generation`.\n",
    "    - Set `response_modalities=['TEXT', 'IMAGE']` in `GenerateContentConfig`.\n",
    "    - Process the response to extract the image data (from `part.inline_data.data` where `mime_type` starts with `image/`).\n",
    "    - Save the image (e.g., as `generated_avatar.png`) using `PIL.Image` and `BytesIO`.\n",
    "    - Display the generated image.\n",
    "2.  **Create an Introduction Text:**\n",
    "    - Write a short introductory sentence for your avatar (e.g., \"Hello! I am Vision, your friendly AI assistant. I'm excited to help you generate amazing things!\").\n",
    "3.  **Generate Speech for the Introduction:**\n",
    "    - Use `client.models.generate_content()` with the model `gemini-2.5-flash-preview-tts`.\n",
    "    - For the `contents`, you can augment the introduction text with a description of the avatar to influence the voice (e.g., f\"Say in a voice based on this image description {{your_image_prompt}}: {{your_introduction_text}}\").\n",
    "    - Configure `GenerateContentConfig` with `response_modalities=[\"AUDIO\"]`.\n",
    "    - Set up `speech_config` within the `GenerateContentConfig` to select a `prebuilt_voice_config` (e.g., `voice_name='Puck'`).\n",
    "    - Process the response to get the audio data (from `part.inline_data.data`).\n",
    "    - Convert the audio data to a NumPy array and save it as a WAV file (e.g., `avatar_introduction.wav`) using `soundfile`.\n",
    "    - Provide a way to play the audio (e.g., `IPython.display.Audio`)."
   ]
  },
  {
   "cell_type": "code",
   "execution_count": null,
   "id": "fbd3490c",
   "metadata": {},
   "outputs": [],
   "source": [
    "# TODO:"
   ]
  },
  {
   "cell_type": "markdown",
   "id": "4e2c296b",
   "metadata": {},
   "source": [
    "## Recap & Next Steps\n",
    "\n",
    "**What You've Learned:**\n",
    "- Image understanding with single and multiple image analysis for various use cases\n",
    "- Audio processing including speech transcription and audio content analysis\n",
    "- Video analysis for scene understanding and YouTube content processing\n",
    "- Document processing with PDF analysis and structured data extraction\n",
    "- Code understanding for repository analysis and code review\n",
    "- Creative generation with image creation and text-to-speech synthesis\n",
    "- Multimodal integration combining different content types for rich applications\n",
    "- File API usage for efficient handling of large files and reusable content\n",
    "\n",
    "**Key Takeaways:**\n",
    "- Use File API for large files (>20MB) and content you'll reuse multiple times\n",
    "- Implement comprehensive error handling for network and API operations\n",
    "- Structure prompts clearly and specifically for consistent, high-quality outputs\n",
    "- Monitor token usage across different modalities for effective cost control\n",
    "- Consider user experience and processing time for multimedia operations\n",
    "\n",
    "**Next Steps:** Continue with [Part 3: Structured Outputs, Function Calling & Tools](https://github.com/philschmid/gemini-2.5-ai-engineering-workshop/blob/main/notebooks/03-structured-outputs-function-calling-tools.ipynb) [![Open In Colab](https://colab.research.google.com/assets/colab-badge.svg)](https://colab.research.google.com/github/philschmid/gemini-2.5-ai-engineering-workshop/blob/main/notebooks/03-structured-outputs-function-calling-tools.ipynb)\n",
    "\n",
    "**More Resources:**\n",
    "- [Vision Understanding Documentation](https://ai.google.dev/gemini-api/docs/vision?lang=python)\n",
    "- [Audio Understanding Documentation](https://ai.google.dev/gemini-api/docs/audio?lang=python)\n",
    "- [Image Generation Guide](https://ai.google.dev/gemini-api/docs/image-generation)\n",
    "- [Text-to-Speech Documentation](https://ai.google.dev/gemini-api/docs/speech-generation)"
   ]
  }
 ],
 "metadata": {
  "language_info": {
   "name": "python"
  }
 },
 "nbformat": 4,
 "nbformat_minor": 5
}
